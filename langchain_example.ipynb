{
 "cells": [
  {
   "cell_type": "code",
   "execution_count": 1,
   "id": "9ab57b27-fbb5-4148-a7de-334a742f26da",
   "metadata": {},
   "outputs": [],
   "source": [
    "import json\n",
    "import os\n",
    "import shutil\n",
    "import tempfile\n",
    "\n",
    "#import packages needed for openai llm\n",
    "# import openai\n",
    "from langchain.llms import OpenAI\n",
    "from langchain import HuggingFaceHub\n",
    "from langchain.embeddings import HuggingFaceEmbeddings\n",
    "from langchain.document_loaders import PyPDFLoader, PyPDFDirectoryLoader\n",
    "from langchain.text_splitter import RecursiveCharacterTextSplitter\n",
    "from langchain.vectorstores import Chroma\n",
    "from langchain.chains import ConversationalRetrievalChain, RetrievalQA\n",
    "from langchain.memory import ConversationBufferMemory\n",
    "from langchain.prompts import PromptTemplate"
   ]
  },
  {
   "cell_type": "code",
   "execution_count": 2,
   "id": "ad5e744a-5d96-4abb-9714-26fd05597704",
   "metadata": {},
   "outputs": [],
   "source": [
    "#load our huggingface information\n",
    "with open('keys/hf.json', 'r') as rd_f:\n",
    "    data = json.load(rd_f)\n",
    "    \n",
    "os.environ['HUGGINGFACEHUB_API_TOKEN'] = data['HUGGINGFACEHUB_API_TOKEN']"
   ]
  },
  {
   "cell_type": "markdown",
   "id": "83f4b41b-07c9-4677-9ae2-413a9c71e633",
   "metadata": {},
   "source": [
    "Load PDF into Pages"
   ]
  },
  {
   "cell_type": "markdown",
   "id": "c03d3ab1-0ed0-482f-9a36-ffb98bffb7c4",
   "metadata": {},
   "source": [
    "a) Read one pdf file"
   ]
  },
  {
   "cell_type": "code",
   "execution_count": 3,
   "id": "f7ab408e-9fc0-49b8-a6e2-59e878f0cc70",
   "metadata": {},
   "outputs": [
    {
     "name": "stdout",
     "output_type": "stream",
     "text": [
      "Number of Pages Read: 2\n"
     ]
    }
   ],
   "source": [
    "#path to pdf file\n",
    "temp_file_path = 'pdfs/asthma.pdf'\n",
    "\n",
    "#add pdf to loader object\n",
    "loader = PyPDFLoader(temp_file_path)\n",
    "#read pages of loader\n",
    "pages = loader.load() #use page[i].page_content to access page text if needed\n",
    "print(f\"Number of Pages Read: {len(pages)}\")"
   ]
  },
  {
   "cell_type": "code",
   "execution_count": 4,
   "id": "e8c839e0-5844-46f3-9e95-2534f4859271",
   "metadata": {},
   "outputs": [
    {
     "name": "stdout",
     "output_type": "stream",
     "text": [
      "Metadata: {'source': 'pdfs/asthma.pdf', 'page': 0}\n",
      "--------------------------------------------------\n",
      "Page Content: www.thoracic.org\n",
      "CLIP AND COPYATS Patient Education  | Information SeriesAsthma is a chronic disease that affects the airways of your lungs. \n",
      "Your air\n"
     ]
    }
   ],
   "source": [
    "print(f\"Metadata: {pages[0].metadata}\")\n",
    "print('-'*50)\n",
    "print(f\"Page Content: {pages[0].page_content[:150]}\")"
   ]
  },
  {
   "cell_type": "markdown",
   "id": "cab2e37d-6ada-4d0e-8dd5-5c55bdf69402",
   "metadata": {},
   "source": [
    "b) Read multiple pdf files"
   ]
  },
  {
   "cell_type": "code",
   "execution_count": 5,
   "id": "c52d744f-fa38-4280-bc20-49217c3539fc",
   "metadata": {},
   "outputs": [],
   "source": [
    "#location of folder with multiple pdfs\n",
    "pdf_fold_loc = 'pdfs'\n",
    "\n",
    "#load all pdf files in directory\n",
    "loader = PyPDFDirectoryLoader(pdf_fold_loc)"
   ]
  },
  {
   "cell_type": "code",
   "execution_count": 6,
   "id": "7b088e2b-f96a-48b0-bd76-0ee4bd6b5b1d",
   "metadata": {},
   "outputs": [
    {
     "name": "stdout",
     "output_type": "stream",
     "text": [
      "Total pages of all pdfs: 2\n",
      "Number of PDF files: 1\n",
      "Files: {'pdfs\\\\asthma.pdf'}\n"
     ]
    }
   ],
   "source": [
    "#pead each page of pdfs\n",
    "docs = loader.load()\n",
    "print(f\"Total pages of all pdfs: {len(docs)}\")\n",
    "\n",
    "#extract the source file name from docs\n",
    "docs_read = set([doc.metadata['source'] for doc in docs])\n",
    "print(f\"Number of PDF files: {len(docs_read)}\")\n",
    "print(f\"Files: {docs_read}\")"
   ]
  },
  {
   "cell_type": "code",
   "execution_count": 7,
   "id": "9b1c5427-d2a5-48fe-a716-78b4658e351e",
   "metadata": {},
   "outputs": [
    {
     "name": "stdout",
     "output_type": "stream",
     "text": [
      "Metadata: {'source': 'pdfs\\\\asthma.pdf', 'page': 0}\n",
      "--------------------------------------------------\n",
      "Page Content: www.thoracic.org\n",
      "CLIP AND COPYATS Patient Education  | Information SeriesAsthma is a chronic disease that affects the airways of your lungs. \n",
      "Your air\n"
     ]
    }
   ],
   "source": [
    "print(f\"Metadata: {docs[0].metadata}\")\n",
    "print('-'*50)\n",
    "print(f\"Page Content: {docs[0].page_content[:150]}\")"
   ]
  },
  {
   "cell_type": "markdown",
   "id": "d58abb67-4e2a-4d09-98d5-6a63a01454b9",
   "metadata": {},
   "source": [
    "Split Pages into Text Chunks"
   ]
  },
  {
   "cell_type": "code",
   "execution_count": 8,
   "id": "ec674f2d-3893-43a8-b4b3-0d3f9ba1c853",
   "metadata": {},
   "outputs": [
    {
     "name": "stdout",
     "output_type": "stream",
     "text": [
      "Number of Text Chunks: 13\n"
     ]
    }
   ],
   "source": [
    "#set chunk and overlap size\n",
    "chunk_size = 850\n",
    "chunk_overlap = 150\n",
    "#create a text splitter using double new lines, then new lines, then periods, and so on if needed\n",
    "text_splitter = RecursiveCharacterTextSplitter(chunk_size=chunk_size,\n",
    "                                               chunk_overlap=chunk_overlap,\n",
    "                                               separators=['\\n\\n', '\\n', '(?<=\\. )', ' ', ''],\n",
    "                                               length_function=len)\n",
    "\n",
    "#split pages into chunks using our text splitter\n",
    "chunks = text_splitter.split_documents(docs)\n",
    "print(f\"Number of Text Chunks: {len(chunks)}\")"
   ]
  },
  {
   "cell_type": "markdown",
   "id": "44b13e07-6185-4581-b9e4-6b08f2aa6af3",
   "metadata": {},
   "source": [
    "Adding or updating metadata in your text chunks (this can be applied to the pages or docs variable as well)"
   ]
  },
  {
   "cell_type": "code",
   "execution_count": 9,
   "id": "b0fce8e0-0b57-4945-80da-ed2187eb7778",
   "metadata": {},
   "outputs": [],
   "source": [
    "#update metadata for each chunk of text from splitter\n",
    "_ = [chunks[i].metadata.update({'chunk_num':i}) for i in range(len(chunks))]"
   ]
  },
  {
   "cell_type": "code",
   "execution_count": 10,
   "id": "816b91bf-d2d3-49c2-9177-31d8d043ec7f",
   "metadata": {},
   "outputs": [
    {
     "name": "stdout",
     "output_type": "stream",
     "text": [
      "Metadata: {'source': 'pdfs\\\\asthma.pdf', 'page': 1, 'chunk_num': 10}\n",
      "--------------------------------------------------\n",
      "Page Content: and note how they may affect you: \n",
      " aStress—Talk to your healthcare provider about things that cause you stress and learn stress relieving \n",
      "techniques\n"
     ]
    }
   ],
   "source": [
    "chunk_num = 10\n",
    "print(f\"Metadata: {chunks[chunk_num].metadata}\")\n",
    "print('-'*50)\n",
    "print(f\"Page Content: {chunks[chunk_num].page_content[:150]}\")"
   ]
  },
  {
   "cell_type": "markdown",
   "id": "3eb57103-e528-4aba-aa9f-6ae4c69f563d",
   "metadata": {},
   "source": [
    "Load Model and Embeddings"
   ]
  },
  {
   "cell_type": "code",
   "execution_count": 11,
   "id": "6e19e909-4562-4ed2-b4bb-4b0f16fd90e7",
   "metadata": {},
   "outputs": [],
   "source": [
    "#get huggingface embeddings\n",
    "embeddings = HuggingFaceEmbeddings()\n",
    "\n",
    "#load llm model and embeddings\n",
    "llm = HuggingFaceHub(repo_id='google/flan-t5-large',\n",
    "                 model_kwargs={\"temperature\":0.5, \"max_length\":512})"
   ]
  },
  {
   "cell_type": "markdown",
   "id": "81d462e9-0a39-4d7b-90d8-e97dd6e94f48",
   "metadata": {},
   "source": [
    "Create Document Store in Memory"
   ]
  },
  {
   "cell_type": "code",
   "execution_count": 12,
   "id": "65d413d4-32b3-4825-ba8c-adc798bfc5ea",
   "metadata": {},
   "outputs": [],
   "source": [
    "#create chroma document store\n",
    "document_store = Chroma.from_documents(documents=chunks,\n",
    "                                       embedding=embeddings) \n",
    "#persist_directory lets us save locally rather than storing in memory if desired"
   ]
  },
  {
   "cell_type": "markdown",
   "id": "b10c76fb-c87d-4a7b-b94d-11fbae7219f8",
   "metadata": {},
   "source": [
    "Search Document Store for Relevant Documents"
   ]
  },
  {
   "cell_type": "code",
   "execution_count": 13,
   "id": "0c9fbcd7-13ae-4fe6-907e-5c7ebf344cd6",
   "metadata": {},
   "outputs": [
    {
     "data": {
      "text/plain": [
       "[(Document(page_content='www.thoracic.org\\nATS Patient Education  | Information SeriesAllergies \\nAllergies are reactions of your immune system as it \\nresponds to things in the environment (allergens) that \\noften do not cause most people harm. Having allergies \\ncan run in families (be inherited). You may have any or \\nall of these reactions with exposure to allergens: \\n askin rashes (eczema or hives) \\n anose and sinus problems (rhinitis) \\n aeye irritation (conjunctivitis) \\n aasthma symptoms \\n asevere reaction (anaphylaxis) \\nSymptoms of nasal allergies include sneezing, itching, \\nrunny nose, postnasal drip into the back of your \\nthroat, or nasal congestion. If you have nasal allergy \\nproblems that are not well controlled, this can also \\nworsen asthma control. If you have allergies, you may \\nbe more likely to have asthma. Common allergens \\ninclude:', metadata={'source': 'pdfs\\\\asthma.pdf', 'page': 1, 'chunk_num': 7}),\n",
       "  0.782264232635498),\n",
       " (Document(page_content='part 2, “Treatment of Asthma”.What Is Asthma?\\nAm J Respir Crit Care Med Vol. 202, P25-P26, 2020\\nOnline Version Updated October 2022\\nATS Patient Education Series © 2020 American Thoracic SocietyHow do I know if I have asthma? \\nCommon symptoms of asthma include: \\n aCough—often dry and can have harsh bursts \\n aWheezing—a whistling sound mainly when you \\nbreathe out through narrowed airways \\n aChest tightness \\n aShortness of breath which may occur with activity or \\neven at rest \\nWhen you are having a problem with asthma, you may \\nfeel like you are breathing through a straw because \\nit is hard to move air through your narrowed airways. \\nCough is often a first symptom of an asthma problem. \\nCough most often occurs at night or early in the \\nmorning. \\nWhile asthma is a chronic disease, you may not have', metadata={'source': 'pdfs\\\\asthma.pdf', 'page': 0, 'chunk_num': 1}),\n",
       "  0.7972925901412964)]"
      ]
     },
     "execution_count": 13,
     "metadata": {},
     "output_type": "execute_result"
    }
   ],
   "source": [
    "#find similar documents to our input from document store\n",
    "document_store.similarity_search_with_score('What is asthma?', k=2)"
   ]
  },
  {
   "cell_type": "markdown",
   "id": "aaeadbf3-4479-4c61-bbb6-e8fb5c49498c",
   "metadata": {},
   "source": [
    "Search and Use Maximal Marginal Relevance"
   ]
  },
  {
   "cell_type": "code",
   "execution_count": 14,
   "id": "4cd6cdb0-b370-4397-aea6-d4df3fcccdf6",
   "metadata": {},
   "outputs": [
    {
     "data": {
      "text/plain": [
       "[{'source': 'pdfs\\\\asthma.pdf', 'page': 1, 'chunk_num': 7},\n",
       " {'source': 'pdfs\\\\asthma.pdf', 'page': 0, 'chunk_num': 1}]"
      ]
     },
     "execution_count": 14,
     "metadata": {},
     "output_type": "execute_result"
    }
   ],
   "source": [
    "#use standard similarity search\n",
    "[doc.metadata for doc in document_store.similarity_search('What is asthma?', k=2, fetch_k=4)]"
   ]
  },
  {
   "cell_type": "code",
   "execution_count": 15,
   "id": "cbbeb595-04db-41d3-ae9e-ab7f80f4622f",
   "metadata": {},
   "outputs": [
    {
     "data": {
      "text/plain": [
       "[{'source': 'pdfs\\\\asthma.pdf', 'page': 1, 'chunk_num': 7},\n",
       " {'source': 'pdfs\\\\asthma.pdf', 'page': 0, 'chunk_num': 0}]"
      ]
     },
     "execution_count": 15,
     "metadata": {},
     "output_type": "execute_result"
    }
   ],
   "source": [
    "#use maximal marginal relevence search (notice how results are a little different)\n",
    "[doc.metadata for doc in document_store.max_marginal_relevance_search('What is asthma?', k=2, fetch_k=4)]"
   ]
  },
  {
   "cell_type": "markdown",
   "id": "888b19a1-018a-450f-aebf-5c99276bdf5b",
   "metadata": {},
   "source": [
    "Create Chain for Question-Answer System with Memory"
   ]
  },
  {
   "cell_type": "code",
   "execution_count": 16,
   "id": "09a15cf9-e629-46c9-b500-32f55d6c1bda",
   "metadata": {},
   "outputs": [],
   "source": [
    "#create a retriever object for the document index using mmr\n",
    "retriever = document_store.as_retriever(search_type=\"mmr\", search_kwargs={\"k\":5, \"fetch_k\":10})"
   ]
  },
  {
   "cell_type": "code",
   "execution_count": 17,
   "id": "09993c34-89b1-4451-9611-ea10f6d739dd",
   "metadata": {},
   "outputs": [],
   "source": [
    "#create memory object\n",
    "memory = ConversationBufferMemory(memory_key='chat_history', return_messages=True)\n",
    "#create conversation system with source document retrieval and our prompt\n",
    "qa_chain = ConversationalRetrievalChain.from_llm(llm=llm,\n",
    "                                                 retriever=retriever,\n",
    "                                                 memory=memory)"
   ]
  },
  {
   "cell_type": "code",
   "execution_count": 18,
   "id": "1f5361f0-d4c4-426e-8113-80285dbf8db0",
   "metadata": {},
   "outputs": [
    {
     "name": "stdout",
     "output_type": "stream",
     "text": [
      "Question: What is asthma?\n",
      "Answer: a chronic disease that affects the airways of your lungs\n"
     ]
    }
   ],
   "source": [
    "#ask question using pipeline chain\n",
    "results = qa_chain({'question': 'What is asthma?'})\n",
    "print(f\"Question: {results['question']}\\nAnswer: {results['answer']}\")"
   ]
  },
  {
   "cell_type": "code",
   "execution_count": 19,
   "id": "1cd89e0a-5b49-4b37-87ba-c2b84350c444",
   "metadata": {},
   "outputs": [
    {
     "name": "stdout",
     "output_type": "stream",
     "text": [
      "Question: What causes it?\n",
      "Answer: Your airways can get irritated easily when exposed to a variety of things, called “triggers.”\n"
     ]
    }
   ],
   "source": [
    "#ask second question in same memory instance using chain\n",
    "results = qa_chain({'question': 'What causes it?'})\n",
    "print(f\"Question: {results['question']}\\nAnswer: {results['answer']}\")"
   ]
  },
  {
   "cell_type": "markdown",
   "id": "c6470b12-934b-4a5e-95e9-5b16d81ba3b5",
   "metadata": {},
   "source": [
    "Chat History"
   ]
  },
  {
   "cell_type": "code",
   "execution_count": 20,
   "id": "a0ab161e-823e-4d80-ad83-ac464e796bca",
   "metadata": {},
   "outputs": [
    {
     "data": {
      "text/plain": [
       "[HumanMessage(content='What is asthma?', additional_kwargs={}, example=False),\n",
       " AIMessage(content='a chronic disease that affects the airways of your lungs', additional_kwargs={}, example=False),\n",
       " HumanMessage(content='What causes it?', additional_kwargs={}, example=False),\n",
       " AIMessage(content='Your airways can get irritated easily when exposed to a variety of things, called “triggers.”', additional_kwargs={}, example=False)]"
      ]
     },
     "execution_count": 20,
     "metadata": {},
     "output_type": "execute_result"
    }
   ],
   "source": [
    "#notice how our chat history has kept both questions from the conversation\n",
    "results['chat_history']"
   ]
  },
  {
   "cell_type": "markdown",
   "id": "dca8647b-0671-4647-8ea2-5267cd0e0304",
   "metadata": {},
   "source": [
    "Question-Answering with Document Retrieval"
   ]
  },
  {
   "cell_type": "code",
   "execution_count": 23,
   "id": "956ca853-c31b-44cd-95f1-633680723f34",
   "metadata": {},
   "outputs": [],
   "source": [
    "#load llm model again\n",
    "llm = HuggingFaceHub(repo_id='google/flan-t5-large',\n",
    "                 model_kwargs={\"temperature\":0.5, \"max_length\":512})"
   ]
  },
  {
   "cell_type": "code",
   "execution_count": 25,
   "id": "4b99118b-416d-4d7f-bece-6e2bb2d7160f",
   "metadata": {},
   "outputs": [],
   "source": [
    "from langchain.prompts import PromptTemplate\n",
    "\n",
    "#create a prompt template for the model to follow\n",
    "prompt_template = \"\"\"Use the following pieces of context to answer the question at the end. If you don't know the answer, just say you don't know, don't try to make up an answer. Respond in complete sentences and act a form of chatbot that is answering the users questions.\n",
    "\n",
    "{context}\n",
    "\n",
    "Question: {question}\n",
    "Answer:\"\"\"\n",
    "#put prompt into template object for model toolkit\n",
    "PROMPT = PromptTemplate(\n",
    "    template=prompt_template, input_variables=['context', 'question'])\n",
    "#chain kwargs input\n",
    "chain_type_kwargs = {\"prompt\": PROMPT}"
   ]
  },
  {
   "cell_type": "code",
   "execution_count": 26,
   "id": "14dd244d-09eb-405e-a17c-00cdb8e43005",
   "metadata": {},
   "outputs": [],
   "source": [
    "#create chain using retrieval qa to allow for return of source documents\n",
    "qa_system = RetrievalQA.from_chain_type(llm=llm, chain_type=\"stuff\",\n",
    "                                        retriever=retriever,\n",
    "                                        return_source_documents=True, \n",
    "                                        chain_type_kwargs=chain_type_kwargs)"
   ]
  },
  {
   "cell_type": "code",
   "execution_count": 27,
   "id": "cbaa598b-4724-4446-b6fa-99d1d39c9881",
   "metadata": {},
   "outputs": [
    {
     "name": "stdout",
     "output_type": "stream",
     "text": [
      "Answer: a chronic disease that affects the airways of your lungs\n",
      "Source Documents:\n",
      "\n",
      "Page: 1\n",
      "www.thoracic.org\n",
      "ATS Patient Education  | Information SeriesAllergies \n",
      "Allergies are reactions of your immune system as it \n",
      "responds to things in the environment (allergens) that \n",
      "often do not cause most people harm. Having allergies \n",
      "can run in families (be inherited). You may have any or \n",
      "all of these reactions with exposure to allergens: \n",
      " askin rashes (eczema or hives) \n",
      " anose and sinus problems (rhinitis) \n",
      " aeye irritation (conjunctivitis) \n",
      " aasthma symptoms \n",
      " asevere reaction (anaphylaxis) \n",
      "Symptoms of nasal allergies include sneezing, itching, \n",
      "runny nose, postnasal drip into the back of your \n",
      "throat, or nasal congestion. If you have nasal allergy \n",
      "problems that are not well controlled, this can also \n",
      "worsen asthma control. If you have allergies, you may \n",
      "be more likely to have asthma. Common allergens \n",
      "include:\n",
      "**************************************************\n",
      "\n",
      "\n",
      "Page: 0\n",
      "What triggers asthma symptoms? \n",
      "If you have asthma, your airways are more sensitive \n",
      "than normal. Your airways can get irritated easily \n",
      "when exposed to a variety of things, called “triggers.” \n",
      "Exposure to triggers can lead to both muscle \n",
      "spasm and inflammation/swelling described above. \n",
      "Sometimes asthma symptoms occur right away after \n",
      "you are exposed. Sometimes your symptoms may \n",
      "occur hours later. You have to be a detective and \n",
      "think about what may be around you that can trigger \n",
      "your asthma. Knowing and avoiding your triggers \n",
      "can help with asthma control. There may be some \n",
      "triggers that you cannot avoid or control and may \n",
      "need treatment to keep them from causing asthma \n",
      "symptoms. Some common triggers of asthma include \n",
      "allergies, respiratory infections, stress, exercise, and \n",
      "medications.\n",
      "Figure 1.  Normal Airway\n",
      "relaxed\n",
      "**************************************************\n",
      "\n",
      "\n",
      "Page: 0\n",
      "www.thoracic.org\n",
      "CLIP AND COPYATS Patient Education  | Information SeriesAsthma is a chronic disease that affects the airways of your lungs. \n",
      "Your airways are the breathing tubes that carry air in and out of \n",
      "your lungs. There are two main problems in asthma: swelling and \n",
      "increased mucus (inflammation) in the airways, and squeezing of \n",
      "the muscles around the airways (bronchospasm). These problems \n",
      "can make it hard to breathe. Taking medicines and avoiding things \n",
      "that trigger asthma can help control asthma. This fact sheet will \n",
      "address the basics of asthma—what it is, how it is diagnosed, and \n",
      "what are some common triggers. For information on treatment, see \n",
      "part 2, “Treatment of Asthma”.What Is Asthma?\n",
      "Am J Respir Crit Care Med Vol. 202, P25-P26, 2020\n",
      "Online Version Updated October 2022\n",
      "**************************************************\n",
      "\n",
      "\n",
      "Page: 0\n",
      "Diagnosing Asthma \n",
      "Asthma is usually suspected by a healthcare provider \n",
      "based on a pattern of symptoms and response to \n",
      "medicine called a bronchodilator that can relief the \n",
      "squeezing of the muscles around the airways. In \n",
      "people over 5 years of age, a breathing test called \n",
      "spirometry (a type of pulmonary function test–PFT) \n",
      "helps confirm the diagnosis. This test can detect \n",
      "narrowing (obstruction) in the airways. A normal breathing test result does not mean you do not have \n",
      "asthma. Your healthcare provider may recommend \n",
      "other types of testing to look for asthma. For more \n",
      "information about pulmonary function testing, see \n",
      "ATS Patient Information series at www.thoracic.org/\n",
      "patients . \n",
      "If you have been diagnosed with asthma, but it is not \n",
      "getting better with treatment, you might benefit from\n",
      "**************************************************\n",
      "\n",
      "\n",
      "Page: 1\n",
      "and note how they may affect you: \n",
      " aStress—Talk to your healthcare provider about things that cause you stress and learn stress relieving \n",
      "techniques\n",
      " aExercise—talk to your healthcare provider about how \n",
      "to exercise safely with asthma \n",
      " aMedications, including aspirin and beta-blockers \n",
      "(medicines often used for the heart or blood pressure) \n",
      " aSulfites (a type of preservative) in foods/drinks, such \n",
      "as dried fruits, wine, and beer \n",
      "Action Steps\n",
      " cAsthma is a chronic disease that can be controlled.  \n",
      "Get help if you are having asthma problems. \n",
      " cIf you notice shortness of breath, wheezing, chest \n",
      "tightness, or cough, talk to your healthcare provider \n",
      "about whether you could have asthma.\n",
      " cMake note of the situations or things in the \n",
      "environment you are exposed to on days when  you\n",
      "**************************************************\n",
      "\n",
      "\n"
     ]
    }
   ],
   "source": [
    "#notice how retrieval qa uses query as required input parameter\n",
    "results = qa_system({\"query\": \"What is asthma?\"})\n",
    "\n",
    "#print output\n",
    "print(f\"Answer: {results['result']}\")\n",
    "print('Source Documents:\\n')\n",
    "for doc in results['source_documents']:\n",
    "    print(f\"Page: {doc.metadata['page']}\")\n",
    "    print(doc.page_content)\n",
    "    print('*'*50)\n",
    "    print('\\n')"
   ]
  },
  {
   "cell_type": "code",
   "execution_count": null,
   "id": "85864c5b-019b-4237-a00e-3e0d74fb9557",
   "metadata": {},
   "outputs": [],
   "source": []
  }
 ],
 "metadata": {
  "kernelspec": {
   "display_name": "search_engine",
   "language": "python",
   "name": "search_engine"
  },
  "language_info": {
   "codemirror_mode": {
    "name": "ipython",
    "version": 3
   },
   "file_extension": ".py",
   "mimetype": "text/x-python",
   "name": "python",
   "nbconvert_exporter": "python",
   "pygments_lexer": "ipython3",
   "version": "3.10.9"
  }
 },
 "nbformat": 4,
 "nbformat_minor": 5
}
